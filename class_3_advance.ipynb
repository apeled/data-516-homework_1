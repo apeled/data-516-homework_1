{
 "cells": [
  {
   "cell_type": "code",
   "execution_count": 11,
   "id": "71de9ae4-bdef-4f6b-9fe8-f183b348521a",
   "metadata": {
    "tags": []
   },
   "outputs": [],
   "source": [
    "%%capture\n",
    "%pip install polars\n",
    "import polars as pl\n",
    "from datetime import datetime\n"
   ]
  },
  {
   "cell_type": "code",
   "execution_count": 2,
   "id": "a32b2dfa-36e7-4573-81c8-b768006df33c",
   "metadata": {
    "tags": []
   },
   "outputs": [
    {
     "data": {
      "text/html": [
       "<div><style>\n",
       ".dataframe > thead > tr,\n",
       ".dataframe > tbody > tr {\n",
       "  text-align: right;\n",
       "  white-space: pre-wrap;\n",
       "}\n",
       "</style>\n",
       "<small>shape: (175, 14)</small><table border=\"1\" class=\"dataframe\"><thead><tr><th>Vendor</th><th>Program</th><th>quote_timestamp</th><th>CPU</th><th>GPU</th><th>RAM</th><th>SSD</th><th>HDD</th><th>MOBO</th><th>NIC</th><th>PSU</th><th>TRAY</th><th>TOR</th><th>CHASSIS</th></tr><tr><td>str</td><td>str</td><td>str</td><td>f64</td><td>f64</td><td>f64</td><td>f64</td><td>f64</td><td>f64</td><td>f64</td><td>f64</td><td>f64</td><td>f64</td><td>f64</td></tr></thead><tbody><tr><td>&quot;Vendor_7&quot;</td><td>&quot;Program_D&quot;</td><td>&quot;2024-09-25T03:52:19.637095&quot;</td><td>305.84</td><td>409.06</td><td>53.43</td><td>196.14</td><td>103.49</td><td>107.72</td><td>20.98</td><td>94.19</td><td>11.57</td><td>746.67</td><td>1015.84</td></tr><tr><td>&quot;Vendor_6&quot;</td><td>&quot;Program_E&quot;</td><td>&quot;2024-09-12T00:26:22.414219&quot;</td><td>324.21</td><td>446.35</td><td>44.91</td><td>194.27</td><td>184.53</td><td>100.12</td><td>28.8</td><td>89.99</td><td>70.05</td><td>728.08</td><td>1068.57</td></tr><tr><td>&quot;Vendor_6&quot;</td><td>&quot;Program_A&quot;</td><td>&quot;2024-09-01T04:29:41.575326&quot;</td><td>325.75</td><td>404.6</td><td>52.24</td><td>181.26</td><td>130.24</td><td>114.01</td><td>22.66</td><td>106.22</td><td>28.0</td><td>719.14</td><td>1665.41</td></tr><tr><td>&quot;Vendor_5&quot;</td><td>&quot;Program_A&quot;</td><td>&quot;2024-09-23T18:35:08.078890&quot;</td><td>300.29</td><td>414.38</td><td>48.73</td><td>187.55</td><td>105.42</td><td>103.5</td><td>21.64</td><td>102.29</td><td>22.98</td><td>734.33</td><td>1770.98</td></tr><tr><td>&quot;Vendor_5&quot;</td><td>&quot;Program_B&quot;</td><td>&quot;2024-09-24T11:33:41.034306&quot;</td><td>333.53</td><td>445.41</td><td>48.16</td><td>193.25</td><td>104.02</td><td>90.87</td><td>23.0</td><td>113.9</td><td>80.13</td><td>616.13</td><td>1563.11</td></tr><tr><td>&hellip;</td><td>&hellip;</td><td>&hellip;</td><td>&hellip;</td><td>&hellip;</td><td>&hellip;</td><td>&hellip;</td><td>&hellip;</td><td>&hellip;</td><td>&hellip;</td><td>&hellip;</td><td>&hellip;</td><td>&hellip;</td><td>&hellip;</td></tr><tr><td>&quot;Vendor_7&quot;</td><td>&quot;Program_E&quot;</td><td>&quot;2024-09-02T19:59:44.793380&quot;</td><td>318.99</td><td>447.29</td><td>48.28</td><td>190.64</td><td>152.61</td><td>80.35</td><td>23.62</td><td>98.91</td><td>78.02</td><td>719.53</td><td>1614.46</td></tr><tr><td>&quot;Vendor_7&quot;</td><td>&quot;Program_C&quot;</td><td>&quot;2024-09-10T20:59:39.959689&quot;</td><td>345.09</td><td>477.63</td><td>49.35</td><td>189.19</td><td>124.61</td><td>86.75</td><td>28.77</td><td>112.67</td><td>23.06</td><td>727.32</td><td>1646.63</td></tr><tr><td>&quot;Vendor_4&quot;</td><td>&quot;Program_E&quot;</td><td>&quot;2024-09-11T17:20:46.390587&quot;</td><td>313.77</td><td>476.99</td><td>46.76</td><td>191.12</td><td>122.7</td><td>81.18</td><td>28.76</td><td>115.58</td><td>27.46</td><td>711.28</td><td>1094.2</td></tr><tr><td>&quot;Vendor_4&quot;</td><td>&quot;Program_D&quot;</td><td>&quot;2024-09-18T01:40:39.987961&quot;</td><td>310.68</td><td>457.19</td><td>49.46</td><td>199.81</td><td>134.83</td><td>106.66</td><td>24.49</td><td>81.97</td><td>97.49</td><td>607.15</td><td>1170.61</td></tr><tr><td>&quot;Vendor_6&quot;</td><td>&quot;Program_E&quot;</td><td>&quot;2024-09-12T23:45:09.765369&quot;</td><td>339.08</td><td>429.01</td><td>44.33</td><td>180.53</td><td>131.31</td><td>101.6</td><td>26.44</td><td>86.62</td><td>11.57</td><td>611.23</td><td>1677.63</td></tr></tbody></table></div>"
      ],
      "text/plain": [
       "shape: (175, 14)\n",
       "┌──────────┬───────────┬──────────────────────────┬────────┬───┬────────┬───────┬────────┬─────────┐\n",
       "│ Vendor   ┆ Program   ┆ quote_timestamp          ┆ CPU    ┆ … ┆ PSU    ┆ TRAY  ┆ TOR    ┆ CHASSIS │\n",
       "│ ---      ┆ ---       ┆ ---                      ┆ ---    ┆   ┆ ---    ┆ ---   ┆ ---    ┆ ---     │\n",
       "│ str      ┆ str       ┆ str                      ┆ f64    ┆   ┆ f64    ┆ f64   ┆ f64    ┆ f64     │\n",
       "╞══════════╪═══════════╪══════════════════════════╪════════╪═══╪════════╪═══════╪════════╪═════════╡\n",
       "│ Vendor_7 ┆ Program_D ┆ 2024-09-25T03:52:19.6370 ┆ 305.84 ┆ … ┆ 94.19  ┆ 11.57 ┆ 746.67 ┆ 1015.84 │\n",
       "│          ┆           ┆ 95                       ┆        ┆   ┆        ┆       ┆        ┆         │\n",
       "│ Vendor_6 ┆ Program_E ┆ 2024-09-12T00:26:22.4142 ┆ 324.21 ┆ … ┆ 89.99  ┆ 70.05 ┆ 728.08 ┆ 1068.57 │\n",
       "│          ┆           ┆ 19                       ┆        ┆   ┆        ┆       ┆        ┆         │\n",
       "│ Vendor_6 ┆ Program_A ┆ 2024-09-01T04:29:41.5753 ┆ 325.75 ┆ … ┆ 106.22 ┆ 28.0  ┆ 719.14 ┆ 1665.41 │\n",
       "│          ┆           ┆ 26                       ┆        ┆   ┆        ┆       ┆        ┆         │\n",
       "│ Vendor_5 ┆ Program_A ┆ 2024-09-23T18:35:08.0788 ┆ 300.29 ┆ … ┆ 102.29 ┆ 22.98 ┆ 734.33 ┆ 1770.98 │\n",
       "│          ┆           ┆ 90                       ┆        ┆   ┆        ┆       ┆        ┆         │\n",
       "│ Vendor_5 ┆ Program_B ┆ 2024-09-24T11:33:41.0343 ┆ 333.53 ┆ … ┆ 113.9  ┆ 80.13 ┆ 616.13 ┆ 1563.11 │\n",
       "│          ┆           ┆ 06                       ┆        ┆   ┆        ┆       ┆        ┆         │\n",
       "│ …        ┆ …         ┆ …                        ┆ …      ┆ … ┆ …      ┆ …     ┆ …      ┆ …       │\n",
       "│ Vendor_7 ┆ Program_E ┆ 2024-09-02T19:59:44.7933 ┆ 318.99 ┆ … ┆ 98.91  ┆ 78.02 ┆ 719.53 ┆ 1614.46 │\n",
       "│          ┆           ┆ 80                       ┆        ┆   ┆        ┆       ┆        ┆         │\n",
       "│ Vendor_7 ┆ Program_C ┆ 2024-09-10T20:59:39.9596 ┆ 345.09 ┆ … ┆ 112.67 ┆ 23.06 ┆ 727.32 ┆ 1646.63 │\n",
       "│          ┆           ┆ 89                       ┆        ┆   ┆        ┆       ┆        ┆         │\n",
       "│ Vendor_4 ┆ Program_E ┆ 2024-09-11T17:20:46.3905 ┆ 313.77 ┆ … ┆ 115.58 ┆ 27.46 ┆ 711.28 ┆ 1094.2  │\n",
       "│          ┆           ┆ 87                       ┆        ┆   ┆        ┆       ┆        ┆         │\n",
       "│ Vendor_4 ┆ Program_D ┆ 2024-09-18T01:40:39.9879 ┆ 310.68 ┆ … ┆ 81.97  ┆ 97.49 ┆ 607.15 ┆ 1170.61 │\n",
       "│          ┆           ┆ 61                       ┆        ┆   ┆        ┆       ┆        ┆         │\n",
       "│ Vendor_6 ┆ Program_E ┆ 2024-09-12T23:45:09.7653 ┆ 339.08 ┆ … ┆ 86.62  ┆ 11.57 ┆ 611.23 ┆ 1677.63 │\n",
       "│          ┆           ┆ 69                       ┆        ┆   ┆        ┆       ┆        ┆         │\n",
       "└──────────┴───────────┴──────────────────────────┴────────┴───┴────────┴───────┴────────┴─────────┘"
      ]
     },
     "execution_count": 2,
     "metadata": {},
     "output_type": "execute_result"
    }
   ],
   "source": [
    "df_raw = (\n",
    "    pl.read_csv(\"quote_lines.csv\")\n",
    ")\n",
    "df_raw"
   ]
  },
  {
   "cell_type": "code",
   "execution_count": 3,
   "id": "26d556a8-896c-4a8e-ae7a-31de04987679",
   "metadata": {
    "tags": []
   },
   "outputs": [
    {
     "data": {
      "text/html": [
       "<div><style>\n",
       ".dataframe > thead > tr,\n",
       ".dataframe > tbody > tr {\n",
       "  text-align: right;\n",
       "  white-space: pre-wrap;\n",
       "}\n",
       "</style>\n",
       "<small>shape: (1_925, 6)</small><table border=\"1\" class=\"dataframe\"><thead><tr><th>Vendor</th><th>Program</th><th>quote_timestamp</th><th>components</th><th>cost</th><th>new_cost</th></tr><tr><td>str</td><td>str</td><td>str</td><td>str</td><td>f64</td><td>f64</td></tr></thead><tbody><tr><td>&quot;Vendor_7&quot;</td><td>&quot;Program_D&quot;</td><td>&quot;2024-09-25T03:52:19.637095&quot;</td><td>&quot;CPU&quot;</td><td>305.84</td><td>458.76</td></tr><tr><td>&quot;Vendor_6&quot;</td><td>&quot;Program_E&quot;</td><td>&quot;2024-09-12T00:26:22.414219&quot;</td><td>&quot;CPU&quot;</td><td>324.21</td><td>486.315</td></tr><tr><td>&quot;Vendor_6&quot;</td><td>&quot;Program_A&quot;</td><td>&quot;2024-09-01T04:29:41.575326&quot;</td><td>&quot;CPU&quot;</td><td>325.75</td><td>488.625</td></tr><tr><td>&quot;Vendor_5&quot;</td><td>&quot;Program_A&quot;</td><td>&quot;2024-09-23T18:35:08.078890&quot;</td><td>&quot;CPU&quot;</td><td>300.29</td><td>450.435</td></tr><tr><td>&quot;Vendor_5&quot;</td><td>&quot;Program_B&quot;</td><td>&quot;2024-09-24T11:33:41.034306&quot;</td><td>&quot;CPU&quot;</td><td>333.53</td><td>500.295</td></tr><tr><td>&hellip;</td><td>&hellip;</td><td>&hellip;</td><td>&hellip;</td><td>&hellip;</td><td>&hellip;</td></tr><tr><td>&quot;Vendor_7&quot;</td><td>&quot;Program_E&quot;</td><td>&quot;2024-09-02T19:59:44.793380&quot;</td><td>&quot;CHASSIS&quot;</td><td>1614.46</td><td>2421.69</td></tr><tr><td>&quot;Vendor_7&quot;</td><td>&quot;Program_C&quot;</td><td>&quot;2024-09-10T20:59:39.959689&quot;</td><td>&quot;CHASSIS&quot;</td><td>1646.63</td><td>2469.945</td></tr><tr><td>&quot;Vendor_4&quot;</td><td>&quot;Program_E&quot;</td><td>&quot;2024-09-11T17:20:46.390587&quot;</td><td>&quot;CHASSIS&quot;</td><td>1094.2</td><td>1641.3</td></tr><tr><td>&quot;Vendor_4&quot;</td><td>&quot;Program_D&quot;</td><td>&quot;2024-09-18T01:40:39.987961&quot;</td><td>&quot;CHASSIS&quot;</td><td>1170.61</td><td>1755.915</td></tr><tr><td>&quot;Vendor_6&quot;</td><td>&quot;Program_E&quot;</td><td>&quot;2024-09-12T23:45:09.765369&quot;</td><td>&quot;CHASSIS&quot;</td><td>1677.63</td><td>2516.445</td></tr></tbody></table></div>"
      ],
      "text/plain": [
       "shape: (1_925, 6)\n",
       "┌──────────┬───────────┬────────────────────────────┬────────────┬─────────┬──────────┐\n",
       "│ Vendor   ┆ Program   ┆ quote_timestamp            ┆ components ┆ cost    ┆ new_cost │\n",
       "│ ---      ┆ ---       ┆ ---                        ┆ ---        ┆ ---     ┆ ---      │\n",
       "│ str      ┆ str       ┆ str                        ┆ str        ┆ f64     ┆ f64      │\n",
       "╞══════════╪═══════════╪════════════════════════════╪════════════╪═════════╪══════════╡\n",
       "│ Vendor_7 ┆ Program_D ┆ 2024-09-25T03:52:19.637095 ┆ CPU        ┆ 305.84  ┆ 458.76   │\n",
       "│ Vendor_6 ┆ Program_E ┆ 2024-09-12T00:26:22.414219 ┆ CPU        ┆ 324.21  ┆ 486.315  │\n",
       "│ Vendor_6 ┆ Program_A ┆ 2024-09-01T04:29:41.575326 ┆ CPU        ┆ 325.75  ┆ 488.625  │\n",
       "│ Vendor_5 ┆ Program_A ┆ 2024-09-23T18:35:08.078890 ┆ CPU        ┆ 300.29  ┆ 450.435  │\n",
       "│ Vendor_5 ┆ Program_B ┆ 2024-09-24T11:33:41.034306 ┆ CPU        ┆ 333.53  ┆ 500.295  │\n",
       "│ …        ┆ …         ┆ …                          ┆ …          ┆ …       ┆ …        │\n",
       "│ Vendor_7 ┆ Program_E ┆ 2024-09-02T19:59:44.793380 ┆ CHASSIS    ┆ 1614.46 ┆ 2421.69  │\n",
       "│ Vendor_7 ┆ Program_C ┆ 2024-09-10T20:59:39.959689 ┆ CHASSIS    ┆ 1646.63 ┆ 2469.945 │\n",
       "│ Vendor_4 ┆ Program_E ┆ 2024-09-11T17:20:46.390587 ┆ CHASSIS    ┆ 1094.2  ┆ 1641.3   │\n",
       "│ Vendor_4 ┆ Program_D ┆ 2024-09-18T01:40:39.987961 ┆ CHASSIS    ┆ 1170.61 ┆ 1755.915 │\n",
       "│ Vendor_6 ┆ Program_E ┆ 2024-09-12T23:45:09.765369 ┆ CHASSIS    ┆ 1677.63 ┆ 2516.445 │\n",
       "└──────────┴───────────┴────────────────────────────┴────────────┴─────────┴──────────┘"
      ]
     },
     "execution_count": 3,
     "metadata": {},
     "output_type": "execute_result"
    }
   ],
   "source": [
    "(\n",
    "    df_raw\n",
    "    .unpivot(\n",
    "        index = (\"Vendor\", \"Program\", \"quote_timestamp\"),\n",
    "        variable_name = \"components\",\n",
    "        value_name = \"cost\"\n",
    "    )\n",
    "    .with_columns(\n",
    "        (pl.col(\"cost\") * 1.5).alias(\"new_cost\"))\n",
    ")"
   ]
  },
  {
   "cell_type": "code",
   "execution_count": 13,
   "id": "418db0b5-77ec-4bce-a018-370512cc5b15",
   "metadata": {
    "tags": []
   },
   "outputs": [],
   "source": [
    "df_sept = (\n",
    "    df_raw\n",
    "    .with_columns(\n",
    "        pl.col(\"quote_timestamp\").str.to_datetime(\"%Y-%m-%dT%H:%M:%S%.6f\")\n",
    "    )\n",
    "    .filter(\n",
    "        pl.col(\"quote_timestamp\")\n",
    "        .is_between(datetime(2024, 9, 1), datetime(2024, 9, 7))\n",
    "    )\n",
    "\n",
    ")"
   ]
  },
  {
   "cell_type": "code",
   "execution_count": 15,
   "id": "5094de8e-b71f-4ac0-8edd-24845d58bb09",
   "metadata": {
    "tags": []
   },
   "outputs": [
    {
     "data": {
      "text/html": [
       "<div><style>\n",
       ".dataframe > thead > tr,\n",
       ".dataframe > tbody > tr {\n",
       "  text-align: right;\n",
       "  white-space: pre-wrap;\n",
       "}\n",
       "</style>\n",
       "<small>shape: (2, 2)</small><table border=\"1\" class=\"dataframe\"><thead><tr><th>Vendor</th><th>Rating</th></tr><tr><td>str</td><td>f64</td></tr></thead><tbody><tr><td>&quot;Vendor_6&quot;</td><td>4.5</td></tr><tr><td>&quot;Vendor_5&quot;</td><td>5.0</td></tr></tbody></table></div>"
      ],
      "text/plain": [
       "shape: (2, 2)\n",
       "┌──────────┬────────┐\n",
       "│ Vendor   ┆ Rating │\n",
       "│ ---      ┆ ---    │\n",
       "│ str      ┆ f64    │\n",
       "╞══════════╪════════╡\n",
       "│ Vendor_6 ┆ 4.5    │\n",
       "│ Vendor_5 ┆ 5.0    │\n",
       "└──────────┴────────┘"
      ]
     },
     "execution_count": 15,
     "metadata": {},
     "output_type": "execute_result"
    }
   ],
   "source": [
    "data = [\n",
    "    (\"Vendor_6\", \"Vendor_5\"),\n",
    "    (4.5, 5.0)\n",
    "]\n",
    "\n",
    "df_vendor_dim = pl.DataFrame(data, schema=[\"Vendor\", \"Rating\"])\n",
    "\n",
    "df_vendor_dim"
   ]
  },
  {
   "cell_type": "code",
   "execution_count": 21,
   "id": "cac5453b-c734-488a-8c14-e74eb29c0ac2",
   "metadata": {
    "tags": []
   },
   "outputs": [
    {
     "data": {
      "text/html": [
       "<div><style>\n",
       ".dataframe > thead > tr,\n",
       ".dataframe > tbody > tr {\n",
       "  text-align: right;\n",
       "  white-space: pre-wrap;\n",
       "}\n",
       "</style>\n",
       "<small>shape: (11, 15)</small><table border=\"1\" class=\"dataframe\"><thead><tr><th>Vendor</th><th>Program</th><th>quote_timestamp</th><th>CPU</th><th>GPU</th><th>RAM</th><th>SSD</th><th>HDD</th><th>MOBO</th><th>NIC</th><th>PSU</th><th>TRAY</th><th>TOR</th><th>CHASSIS</th><th>Rating</th></tr><tr><td>str</td><td>str</td><td>datetime[μs]</td><td>f64</td><td>f64</td><td>f64</td><td>f64</td><td>f64</td><td>f64</td><td>f64</td><td>f64</td><td>f64</td><td>f64</td><td>f64</td><td>f64</td></tr></thead><tbody><tr><td>&quot;Vendor_6&quot;</td><td>&quot;Program_A&quot;</td><td>2024-09-01 04:29:41.575326</td><td>325.75</td><td>404.6</td><td>52.24</td><td>181.26</td><td>130.24</td><td>114.01</td><td>22.66</td><td>106.22</td><td>28.0</td><td>719.14</td><td>1665.41</td><td>4.5</td></tr><tr><td>&quot;Vendor_6&quot;</td><td>&quot;Program_B&quot;</td><td>2024-09-03 02:21:46.569968</td><td>329.02</td><td>494.3</td><td>53.72</td><td>196.96</td><td>198.37</td><td>92.94</td><td>27.87</td><td>108.83</td><td>17.06</td><td>553.54</td><td>1894.53</td><td>4.5</td></tr><tr><td>&quot;Vendor_6&quot;</td><td>&quot;Program_E&quot;</td><td>2024-09-01 03:28:05.312822</td><td>320.66</td><td>400.19</td><td>53.55</td><td>197.64</td><td>164.11</td><td>113.72</td><td>20.17</td><td>115.09</td><td>83.5</td><td>559.1</td><td>1763.25</td><td>4.5</td></tr><tr><td>&quot;Vendor_6&quot;</td><td>&quot;Program_E&quot;</td><td>2024-09-05 02:24:06.963283</td><td>324.99</td><td>401.8</td><td>45.62</td><td>192.94</td><td>161.97</td><td>114.78</td><td>29.55</td><td>83.2</td><td>61.93</td><td>604.75</td><td>1896.5</td><td>4.5</td></tr><tr><td>&quot;Vendor_6&quot;</td><td>&quot;Program_B&quot;</td><td>2024-09-05 15:22:23.219209</td><td>329.71</td><td>492.58</td><td>49.43</td><td>182.8</td><td>188.62</td><td>118.33</td><td>23.63</td><td>115.46</td><td>89.63</td><td>620.68</td><td>1527.27</td><td>4.5</td></tr><tr><td>&hellip;</td><td>&hellip;</td><td>&hellip;</td><td>&hellip;</td><td>&hellip;</td><td>&hellip;</td><td>&hellip;</td><td>&hellip;</td><td>&hellip;</td><td>&hellip;</td><td>&hellip;</td><td>&hellip;</td><td>&hellip;</td><td>&hellip;</td><td>&hellip;</td></tr><tr><td>&quot;Vendor_6&quot;</td><td>&quot;Program_B&quot;</td><td>2024-09-03 04:36:02.445715</td><td>321.14</td><td>448.67</td><td>44.42</td><td>189.17</td><td>158.72</td><td>81.36</td><td>28.1</td><td>82.83</td><td>49.67</td><td>740.18</td><td>1073.06</td><td>4.5</td></tr><tr><td>&quot;Vendor_6&quot;</td><td>&quot;Program_A&quot;</td><td>2024-09-06 01:08:17.028693</td><td>324.85</td><td>443.32</td><td>46.47</td><td>183.27</td><td>125.13</td><td>96.55</td><td>25.19</td><td>94.14</td><td>55.73</td><td>565.97</td><td>1532.34</td><td>4.5</td></tr><tr><td>&quot;Vendor_6&quot;</td><td>&quot;Program_C&quot;</td><td>2024-09-04 16:57:51.687340</td><td>331.28</td><td>459.1</td><td>53.51</td><td>192.84</td><td>104.54</td><td>84.34</td><td>21.78</td><td>88.8</td><td>42.57</td><td>638.91</td><td>1779.45</td><td>4.5</td></tr><tr><td>&quot;Vendor_6&quot;</td><td>&quot;Program_C&quot;</td><td>2024-09-06 04:16:17.045891</td><td>302.02</td><td>420.38</td><td>52.38</td><td>181.56</td><td>109.31</td><td>81.5</td><td>24.03</td><td>97.12</td><td>80.84</td><td>742.3</td><td>1740.67</td><td>4.5</td></tr><tr><td>&quot;Vendor_6&quot;</td><td>&quot;Program_D&quot;</td><td>2024-09-02 07:29:57.740982</td><td>346.86</td><td>453.93</td><td>47.28</td><td>187.19</td><td>151.25</td><td>103.19</td><td>28.14</td><td>100.63</td><td>63.41</td><td>616.15</td><td>1379.24</td><td>4.5</td></tr></tbody></table></div>"
      ],
      "text/plain": [
       "shape: (11, 15)\n",
       "┌──────────┬───────────┬─────────────────┬────────┬───┬───────┬────────┬─────────┬────────┐\n",
       "│ Vendor   ┆ Program   ┆ quote_timestamp ┆ CPU    ┆ … ┆ TRAY  ┆ TOR    ┆ CHASSIS ┆ Rating │\n",
       "│ ---      ┆ ---       ┆ ---             ┆ ---    ┆   ┆ ---   ┆ ---    ┆ ---     ┆ ---    │\n",
       "│ str      ┆ str       ┆ datetime[μs]    ┆ f64    ┆   ┆ f64   ┆ f64    ┆ f64     ┆ f64    │\n",
       "╞══════════╪═══════════╪═════════════════╪════════╪═══╪═══════╪════════╪═════════╪════════╡\n",
       "│ Vendor_6 ┆ Program_A ┆ 2024-09-01      ┆ 325.75 ┆ … ┆ 28.0  ┆ 719.14 ┆ 1665.41 ┆ 4.5    │\n",
       "│          ┆           ┆ 04:29:41.575326 ┆        ┆   ┆       ┆        ┆         ┆        │\n",
       "│ Vendor_6 ┆ Program_B ┆ 2024-09-03      ┆ 329.02 ┆ … ┆ 17.06 ┆ 553.54 ┆ 1894.53 ┆ 4.5    │\n",
       "│          ┆           ┆ 02:21:46.569968 ┆        ┆   ┆       ┆        ┆         ┆        │\n",
       "│ Vendor_6 ┆ Program_E ┆ 2024-09-01      ┆ 320.66 ┆ … ┆ 83.5  ┆ 559.1  ┆ 1763.25 ┆ 4.5    │\n",
       "│          ┆           ┆ 03:28:05.312822 ┆        ┆   ┆       ┆        ┆         ┆        │\n",
       "│ Vendor_6 ┆ Program_E ┆ 2024-09-05      ┆ 324.99 ┆ … ┆ 61.93 ┆ 604.75 ┆ 1896.5  ┆ 4.5    │\n",
       "│          ┆           ┆ 02:24:06.963283 ┆        ┆   ┆       ┆        ┆         ┆        │\n",
       "│ Vendor_6 ┆ Program_B ┆ 2024-09-05      ┆ 329.71 ┆ … ┆ 89.63 ┆ 620.68 ┆ 1527.27 ┆ 4.5    │\n",
       "│          ┆           ┆ 15:22:23.219209 ┆        ┆   ┆       ┆        ┆         ┆        │\n",
       "│ …        ┆ …         ┆ …               ┆ …      ┆ … ┆ …     ┆ …      ┆ …       ┆ …      │\n",
       "│ Vendor_6 ┆ Program_B ┆ 2024-09-03      ┆ 321.14 ┆ … ┆ 49.67 ┆ 740.18 ┆ 1073.06 ┆ 4.5    │\n",
       "│          ┆           ┆ 04:36:02.445715 ┆        ┆   ┆       ┆        ┆         ┆        │\n",
       "│ Vendor_6 ┆ Program_A ┆ 2024-09-06      ┆ 324.85 ┆ … ┆ 55.73 ┆ 565.97 ┆ 1532.34 ┆ 4.5    │\n",
       "│          ┆           ┆ 01:08:17.028693 ┆        ┆   ┆       ┆        ┆         ┆        │\n",
       "│ Vendor_6 ┆ Program_C ┆ 2024-09-04      ┆ 331.28 ┆ … ┆ 42.57 ┆ 638.91 ┆ 1779.45 ┆ 4.5    │\n",
       "│          ┆           ┆ 16:57:51.687340 ┆        ┆   ┆       ┆        ┆         ┆        │\n",
       "│ Vendor_6 ┆ Program_C ┆ 2024-09-06      ┆ 302.02 ┆ … ┆ 80.84 ┆ 742.3  ┆ 1740.67 ┆ 4.5    │\n",
       "│          ┆           ┆ 04:16:17.045891 ┆        ┆   ┆       ┆        ┆         ┆        │\n",
       "│ Vendor_6 ┆ Program_D ┆ 2024-09-02      ┆ 346.86 ┆ … ┆ 63.41 ┆ 616.15 ┆ 1379.24 ┆ 4.5    │\n",
       "│          ┆           ┆ 07:29:57.740982 ┆        ┆   ┆       ┆        ┆         ┆        │\n",
       "└──────────┴───────────┴─────────────────┴────────┴───┴───────┴────────┴─────────┴────────┘"
      ]
     },
     "execution_count": 21,
     "metadata": {},
     "output_type": "execute_result"
    }
   ],
   "source": [
    "df_ratings = (\n",
    "    df_sept\n",
    "    .join(df_vendor_dim, on=\"Vendor\", how=\"inner\")\n",
    ")\n",
    "\n",
    "df_vendor_5 = (df_ratings.filter(pl.col(\"Vendor\") == \"Vendor_5\"))\n",
    "\n",
    "df_vendor_6 = (df_ratings.filter(pl.col(\"Vendor\") == \"Vendor_6\"))"
   ]
  },
  {
   "cell_type": "code",
   "execution_count": 22,
   "id": "e1ffe7fd-35f8-488e-97f3-32617d41ec1a",
   "metadata": {
    "tags": []
   },
   "outputs": [
    {
     "data": {
      "text/html": [
       "<div><style>\n",
       ".dataframe > thead > tr,\n",
       ".dataframe > tbody > tr {\n",
       "  text-align: right;\n",
       "  white-space: pre-wrap;\n",
       "}\n",
       "</style>\n",
       "<small>shape: (16, 15)</small><table border=\"1\" class=\"dataframe\"><thead><tr><th>Vendor</th><th>Program</th><th>quote_timestamp</th><th>CPU</th><th>GPU</th><th>RAM</th><th>SSD</th><th>HDD</th><th>MOBO</th><th>NIC</th><th>PSU</th><th>TRAY</th><th>TOR</th><th>CHASSIS</th><th>Rating</th></tr><tr><td>str</td><td>str</td><td>datetime[μs]</td><td>f64</td><td>f64</td><td>f64</td><td>f64</td><td>f64</td><td>f64</td><td>f64</td><td>f64</td><td>f64</td><td>f64</td><td>f64</td><td>f64</td></tr></thead><tbody><tr><td>&quot;Vendor_5&quot;</td><td>&quot;Program_E&quot;</td><td>2024-09-03 05:21:26.272780</td><td>301.77</td><td>421.86</td><td>49.71</td><td>187.39</td><td>118.39</td><td>91.72</td><td>28.38</td><td>90.92</td><td>72.54</td><td>544.08</td><td>1991.74</td><td>5.0</td></tr><tr><td>&quot;Vendor_5&quot;</td><td>&quot;Program_D&quot;</td><td>2024-09-04 20:43:51.024192</td><td>344.44</td><td>489.14</td><td>45.24</td><td>194.91</td><td>116.58</td><td>112.94</td><td>22.51</td><td>96.18</td><td>33.44</td><td>569.18</td><td>1090.89</td><td>5.0</td></tr><tr><td>&quot;Vendor_5&quot;</td><td>&quot;Program_D&quot;</td><td>2024-09-02 04:38:28.238073</td><td>327.29</td><td>433.08</td><td>48.78</td><td>184.71</td><td>198.89</td><td>85.13</td><td>24.03</td><td>111.64</td><td>84.03</td><td>635.48</td><td>1834.52</td><td>5.0</td></tr><tr><td>&quot;Vendor_5&quot;</td><td>&quot;Program_E&quot;</td><td>2024-09-03 20:14:36.055518</td><td>349.47</td><td>423.76</td><td>53.76</td><td>193.48</td><td>196.78</td><td>97.79</td><td>23.47</td><td>104.09</td><td>27.33</td><td>716.5</td><td>1259.95</td><td>5.0</td></tr><tr><td>&quot;Vendor_5&quot;</td><td>&quot;Program_A&quot;</td><td>2024-09-05 03:11:32.722222</td><td>330.5</td><td>468.04</td><td>47.79</td><td>190.65</td><td>110.16</td><td>91.25</td><td>25.52</td><td>94.26</td><td>38.55</td><td>684.71</td><td>1268.8</td><td>5.0</td></tr><tr><td>&hellip;</td><td>&hellip;</td><td>&hellip;</td><td>&hellip;</td><td>&hellip;</td><td>&hellip;</td><td>&hellip;</td><td>&hellip;</td><td>&hellip;</td><td>&hellip;</td><td>&hellip;</td><td>&hellip;</td><td>&hellip;</td><td>&hellip;</td><td>&hellip;</td></tr><tr><td>&quot;Vendor_6&quot;</td><td>&quot;Program_B&quot;</td><td>2024-09-03 04:36:02.445715</td><td>321.14</td><td>448.67</td><td>44.42</td><td>189.17</td><td>158.72</td><td>81.36</td><td>28.1</td><td>82.83</td><td>49.67</td><td>740.18</td><td>1073.06</td><td>4.5</td></tr><tr><td>&quot;Vendor_6&quot;</td><td>&quot;Program_A&quot;</td><td>2024-09-06 01:08:17.028693</td><td>324.85</td><td>443.32</td><td>46.47</td><td>183.27</td><td>125.13</td><td>96.55</td><td>25.19</td><td>94.14</td><td>55.73</td><td>565.97</td><td>1532.34</td><td>4.5</td></tr><tr><td>&quot;Vendor_6&quot;</td><td>&quot;Program_C&quot;</td><td>2024-09-04 16:57:51.687340</td><td>331.28</td><td>459.1</td><td>53.51</td><td>192.84</td><td>104.54</td><td>84.34</td><td>21.78</td><td>88.8</td><td>42.57</td><td>638.91</td><td>1779.45</td><td>4.5</td></tr><tr><td>&quot;Vendor_6&quot;</td><td>&quot;Program_C&quot;</td><td>2024-09-06 04:16:17.045891</td><td>302.02</td><td>420.38</td><td>52.38</td><td>181.56</td><td>109.31</td><td>81.5</td><td>24.03</td><td>97.12</td><td>80.84</td><td>742.3</td><td>1740.67</td><td>4.5</td></tr><tr><td>&quot;Vendor_6&quot;</td><td>&quot;Program_D&quot;</td><td>2024-09-02 07:29:57.740982</td><td>346.86</td><td>453.93</td><td>47.28</td><td>187.19</td><td>151.25</td><td>103.19</td><td>28.14</td><td>100.63</td><td>63.41</td><td>616.15</td><td>1379.24</td><td>4.5</td></tr></tbody></table></div>"
      ],
      "text/plain": [
       "shape: (16, 15)\n",
       "┌──────────┬───────────┬─────────────────┬────────┬───┬───────┬────────┬─────────┬────────┐\n",
       "│ Vendor   ┆ Program   ┆ quote_timestamp ┆ CPU    ┆ … ┆ TRAY  ┆ TOR    ┆ CHASSIS ┆ Rating │\n",
       "│ ---      ┆ ---       ┆ ---             ┆ ---    ┆   ┆ ---   ┆ ---    ┆ ---     ┆ ---    │\n",
       "│ str      ┆ str       ┆ datetime[μs]    ┆ f64    ┆   ┆ f64   ┆ f64    ┆ f64     ┆ f64    │\n",
       "╞══════════╪═══════════╪═════════════════╪════════╪═══╪═══════╪════════╪═════════╪════════╡\n",
       "│ Vendor_5 ┆ Program_E ┆ 2024-09-03      ┆ 301.77 ┆ … ┆ 72.54 ┆ 544.08 ┆ 1991.74 ┆ 5.0    │\n",
       "│          ┆           ┆ 05:21:26.272780 ┆        ┆   ┆       ┆        ┆         ┆        │\n",
       "│ Vendor_5 ┆ Program_D ┆ 2024-09-04      ┆ 344.44 ┆ … ┆ 33.44 ┆ 569.18 ┆ 1090.89 ┆ 5.0    │\n",
       "│          ┆           ┆ 20:43:51.024192 ┆        ┆   ┆       ┆        ┆         ┆        │\n",
       "│ Vendor_5 ┆ Program_D ┆ 2024-09-02      ┆ 327.29 ┆ … ┆ 84.03 ┆ 635.48 ┆ 1834.52 ┆ 5.0    │\n",
       "│          ┆           ┆ 04:38:28.238073 ┆        ┆   ┆       ┆        ┆         ┆        │\n",
       "│ Vendor_5 ┆ Program_E ┆ 2024-09-03      ┆ 349.47 ┆ … ┆ 27.33 ┆ 716.5  ┆ 1259.95 ┆ 5.0    │\n",
       "│          ┆           ┆ 20:14:36.055518 ┆        ┆   ┆       ┆        ┆         ┆        │\n",
       "│ Vendor_5 ┆ Program_A ┆ 2024-09-05      ┆ 330.5  ┆ … ┆ 38.55 ┆ 684.71 ┆ 1268.8  ┆ 5.0    │\n",
       "│          ┆           ┆ 03:11:32.722222 ┆        ┆   ┆       ┆        ┆         ┆        │\n",
       "│ …        ┆ …         ┆ …               ┆ …      ┆ … ┆ …     ┆ …      ┆ …       ┆ …      │\n",
       "│ Vendor_6 ┆ Program_B ┆ 2024-09-03      ┆ 321.14 ┆ … ┆ 49.67 ┆ 740.18 ┆ 1073.06 ┆ 4.5    │\n",
       "│          ┆           ┆ 04:36:02.445715 ┆        ┆   ┆       ┆        ┆         ┆        │\n",
       "│ Vendor_6 ┆ Program_A ┆ 2024-09-06      ┆ 324.85 ┆ … ┆ 55.73 ┆ 565.97 ┆ 1532.34 ┆ 4.5    │\n",
       "│          ┆           ┆ 01:08:17.028693 ┆        ┆   ┆       ┆        ┆         ┆        │\n",
       "│ Vendor_6 ┆ Program_C ┆ 2024-09-04      ┆ 331.28 ┆ … ┆ 42.57 ┆ 638.91 ┆ 1779.45 ┆ 4.5    │\n",
       "│          ┆           ┆ 16:57:51.687340 ┆        ┆   ┆       ┆        ┆         ┆        │\n",
       "│ Vendor_6 ┆ Program_C ┆ 2024-09-06      ┆ 302.02 ┆ … ┆ 80.84 ┆ 742.3  ┆ 1740.67 ┆ 4.5    │\n",
       "│          ┆           ┆ 04:16:17.045891 ┆        ┆   ┆       ┆        ┆         ┆        │\n",
       "│ Vendor_6 ┆ Program_D ┆ 2024-09-02      ┆ 346.86 ┆ … ┆ 63.41 ┆ 616.15 ┆ 1379.24 ┆ 4.5    │\n",
       "│          ┆           ┆ 07:29:57.740982 ┆        ┆   ┆       ┆        ┆         ┆        │\n",
       "└──────────┴───────────┴─────────────────┴────────┴───┴───────┴────────┴─────────┴────────┘"
      ]
     },
     "execution_count": 22,
     "metadata": {},
     "output_type": "execute_result"
    }
   ],
   "source": [
    "(\n",
    "pl.concat([df_vendor_5, df_vendor_6])\n",
    ")"
   ]
  },
  {
   "cell_type": "code",
   "execution_count": 23,
   "id": "0d8bf141-16cb-401a-abbe-75c1d0d0c9ea",
   "metadata": {
    "tags": []
   },
   "outputs": [],
   "source": [
    "def fct_valid_dates(df):\n",
    "    df_return = (\n",
    "        df_raw\n",
    "            .with_columns(\n",
    "                pl.col(\"quote_timestamp\").str.to_datetime()\n",
    "            )\n",
    "        .filter(\n",
    "            pl.col(\"quote_timestamp\")\n",
    "            .is_between(datetime(2024, 9, 1), datetime(2024, 9, 7))\n",
    "        )\n",
    "    )\n"
   ]
  },
  {
   "cell_type": "code",
   "execution_count": null,
   "id": "6c206a69-636a-4af8-a0e5-c2e878348d16",
   "metadata": {},
   "outputs": [],
   "source": [
    "df_raw = read...\n",
    "valid_dates = raw...\n",
    "valid_subtotals = valid dates ... "
   ]
  }
 ],
 "metadata": {
  "kernelspec": {
   "display_name": "conda_python3",
   "language": "python",
   "name": "conda_python3"
  },
  "language_info": {
   "codemirror_mode": {
    "name": "ipython",
    "version": 3
   },
   "file_extension": ".py",
   "mimetype": "text/x-python",
   "name": "python",
   "nbconvert_exporter": "python",
   "pygments_lexer": "ipython3",
   "version": "3.10.14"
  }
 },
 "nbformat": 4,
 "nbformat_minor": 5
}
