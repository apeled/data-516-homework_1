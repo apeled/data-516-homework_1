{
 "cells": [
  {
   "cell_type": "code",
   "execution_count": 7,
   "id": "fa515f53-9d8c-45de-8275-f80fda9df6bd",
   "metadata": {},
   "outputs": [],
   "source": [
    "%%capture\n",
    "%pip install polars\n",
    "import polars as pl\n",
    "\n",
    "%pip install xlsx2csv openpyxl fastexcel\n",
    "\n",
    "from datetime import datetime"
   ]
  },
  {
   "cell_type": "code",
   "execution_count": 8,
   "id": "fe2cd921-d790-4a01-b7e9-b3cd0d6400fa",
   "metadata": {},
   "outputs": [],
   "source": [
    "server_components = pl.read_excel(\"data/program configurations.xlsx\", sheet_name=\"server_specs\")\n",
    "rack_components = pl.read_excel(\"data/program configurations.xlsx\", sheet_name=\"rack_specs\")\n",
    "\n",
    "quote_summary = pl.read_csv(\"data/quote_summaries.csv\")\n",
    "quote_details = pl.read_csv(\"data/quote_lines.csv\")"
   ]
  },
  {
   "cell_type": "code",
   "execution_count": 9,
   "id": "a5bdfa3a-e8ef-4cba-820c-5d859a82aa28",
   "metadata": {},
   "outputs": [
    {
     "data": {
      "text/html": [
       "<div><style>\n",
       ".dataframe > thead > tr,\n",
       ".dataframe > tbody > tr {\n",
       "  text-align: right;\n",
       "  white-space: pre-wrap;\n",
       "}\n",
       "</style>\n",
       "<small>shape: (4, 6)</small><table border=\"1\" class=\"dataframe\"><thead><tr><th>Item</th><th>Server A</th><th>Server B</th><th>Server C</th><th>Server D</th><th>Server E</th></tr><tr><td>str</td><td>i64</td><td>i64</td><td>i64</td><td>i64</td><td>i64</td></tr></thead><tbody><tr><td>&quot;CPU&quot;</td><td>2</td><td>2</td><td>2</td><td>1</td><td>1</td></tr><tr><td>&quot;GPU&quot;</td><td>0</td><td>4</td><td>0</td><td>0</td><td>2</td></tr><tr><td>&quot;RAM&quot;</td><td>4</td><td>4</td><td>4</td><td>8</td><td>8</td></tr><tr><td>&quot;SSD&quot;</td><td>1</td><td>2</td><td>1</td><td>1</td><td>0</td></tr></tbody></table></div>"
      ],
      "text/plain": [
       "shape: (4, 6)\n",
       "┌──────┬──────────┬──────────┬──────────┬──────────┬──────────┐\n",
       "│ Item ┆ Server A ┆ Server B ┆ Server C ┆ Server D ┆ Server E │\n",
       "│ ---  ┆ ---      ┆ ---      ┆ ---      ┆ ---      ┆ ---      │\n",
       "│ str  ┆ i64      ┆ i64      ┆ i64      ┆ i64      ┆ i64      │\n",
       "╞══════╪══════════╪══════════╪══════════╪══════════╪══════════╡\n",
       "│ CPU  ┆ 2        ┆ 2        ┆ 2        ┆ 1        ┆ 1        │\n",
       "│ GPU  ┆ 0        ┆ 4        ┆ 0        ┆ 0        ┆ 2        │\n",
       "│ RAM  ┆ 4        ┆ 4        ┆ 4        ┆ 8        ┆ 8        │\n",
       "│ SSD  ┆ 1        ┆ 2        ┆ 1        ┆ 1        ┆ 0        │\n",
       "└──────┴──────────┴──────────┴──────────┴──────────┴──────────┘"
      ]
     },
     "execution_count": 9,
     "metadata": {},
     "output_type": "execute_result"
    }
   ],
   "source": []
  }
 ],
 "metadata": {
  "kernelspec": {
   "display_name": "Python 3 (ipykernel)",
   "language": "python",
   "name": "python3"
  },
  "language_info": {
   "codemirror_mode": {
    "name": "ipython",
    "version": 3
   },
   "file_extension": ".py",
   "mimetype": "text/x-python",
   "name": "python",
   "nbconvert_exporter": "python",
   "pygments_lexer": "ipython3",
   "version": "3.10.12"
  }
 },
 "nbformat": 4,
 "nbformat_minor": 5
}
